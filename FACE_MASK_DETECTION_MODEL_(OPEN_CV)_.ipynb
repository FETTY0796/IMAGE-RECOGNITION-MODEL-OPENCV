{
  "nbformat": 4,
  "nbformat_minor": 0,
  "metadata": {
    "colab": {
      "provenance": []
    },
    "kernelspec": {
      "name": "python3",
      "display_name": "Python 3"
    },
    "language_info": {
      "name": "python"
    }
  },
  "cells": [
    {
      "cell_type": "code",
      "execution_count": null,
      "metadata": {
        "colab": {
          "base_uri": "https://localhost:8080/"
        },
        "id": "oM5zhlbFtUT8",
        "outputId": "3816a2db-f650-43eb-cd35-d027d9c10fb9"
      },
      "outputs": [
        {
          "output_type": "stream",
          "name": "stdout",
          "text": [
            "Requirement already satisfied: opencv-python in /usr/local/lib/python3.10/dist-packages (4.7.0.72)\n",
            "Requirement already satisfied: numpy>=1.21.2 in /usr/local/lib/python3.10/dist-packages (from opencv-python) (1.22.4)\n"
          ]
        }
      ],
      "source": [
        "!pip install tensorflow\n",
        "!pip install opencv-python\n"
      ]
    },
    {
      "cell_type": "markdown",
      "source": [
        "STUDENT NAME : ADEKUNLE OLOMOLA\n",
        "STUDENT ID : 100887419\n",
        "COURSE : AIDI 2000\n",
        "ASSIGNMENT 2"
      ],
      "metadata": {
        "id": "Ps9iZu6Fhz9f"
      }
    },
    {
      "cell_type": "code",
      "source": [
        "from zipfile import ZipFile\n",
        "\n",
        "Dataset = '/Dataset.zip'\n",
        "with ZipFile(Dataset, 'r') as zip:\n",
        "  zip.extractall()\n",
        "  print('extracted data')\n"
      ],
      "metadata": {
        "colab": {
          "base_uri": "https://localhost:8080/"
        },
        "id": "uUszRpKcNM_5",
        "outputId": "52f1dda9-4aa1-4dfd-f5eb-ad5156cd970a"
      },
      "execution_count": null,
      "outputs": [
        {
          "output_type": "stream",
          "name": "stdout",
          "text": [
            "extracted data\n"
          ]
        }
      ]
    },
    {
      "cell_type": "code",
      "source": [
        "import cv2\n",
        "import os\n",
        "import numpy as np\n",
        "\n",
        "DATA_DIR = '/content/Dataset'  # The path to the dataset\n",
        "CATEGORIES = ['with_mask', 'without_mask']\n",
        "\n",
        "training_data = []\n",
        "IMG_SIZE = 64\n",
        "\n",
        "def create_training_data():\n",
        "    for category in CATEGORIES:\n",
        "        path = os.path.join(DATA_DIR, category)\n",
        "        class_num = CATEGORIES.index(category)\n",
        "        for img in os.listdir(path):\n",
        "            try:\n",
        "                img_array = cv2.imread(os.path.join(path, img))\n",
        "                face = cv2.resize(img_array, (IMG_SIZE, IMG_SIZE))\n",
        "                training_data.append([face, class_num])\n",
        "            except Exception as e:\n",
        "                pass\n",
        "\n",
        "create_training_data()\n"
      ],
      "metadata": {
        "id": "n-UMwIO_tftX"
      },
      "execution_count": null,
      "outputs": []
    },
    {
      "cell_type": "code",
      "source": [
        "import random\n",
        "from sklearn.model_selection import train_test_split\n",
        "\n",
        "random.shuffle(training_data)\n",
        "\n",
        "X = []\n",
        "y = []\n",
        "\n",
        "for features, label in training_data:\n",
        "    X.append(features)\n",
        "    y.append(label)\n",
        "\n",
        "X = np.array(X).reshape(-1, IMG_SIZE, IMG_SIZE, 3)\n",
        "y = np.array(y)\n",
        "\n",
        "X_train, X_test, y_train, y_test = train_test_split(X, y, test_size=0.2, random_state=42)\n"
      ],
      "metadata": {
        "id": "O1WKGtyPvrKt"
      },
      "execution_count": null,
      "outputs": []
    },
    {
      "cell_type": "code",
      "source": [
        "from tensorflow.keras.preprocessing.image import ImageDataGenerator\n",
        "from tensorflow.keras.applications import MobileNetV2\n",
        "from tensorflow.keras.layers import AveragePooling2D, Dropout, Flatten, Dense, Input\n",
        "from tensorflow.keras.models import Model\n",
        "\n",
        "# define data augmentation\n",
        "trainAug = ImageDataGenerator(rotation_range=20,\n",
        "                              zoom_range=0.15,\n",
        "                              width_shift_range=0.2,\n",
        "                              height_shift_range=0.2,\n",
        "                              shear_range=0.15,\n",
        "                              horizontal_flip=True,\n",
        "                              fill_mode=\"nearest\")\n",
        "\n",
        "# load the MobileNetV2 network, ensuring the head FC layer sets are left off\n",
        "baseModel = MobileNetV2(weights=\"imagenet\", include_top=False,\n",
        "                        input_tensor=Input(shape=(IMG_SIZE, IMG_SIZE, 3)))\n",
        "\n",
        "# construct the head of the model that will be placed on top of the base model\n",
        "headModel = baseModel.output\n",
        "headModel = AveragePooling2D(pool_size=(2, 2))(headModel)\n",
        "headModel = Flatten(name=\"flatten\")(headModel)\n",
        "headModel = Dense(512, activation=\"relu\")(headModel)\n",
        "headModel = Dropout(0.5)(headModel)\n",
        "headModel = Dense(128, activation=\"relu\")(headModel)\n",
        "headModel = Dropout(0.5)(headModel)\n",
        "headModel = Dense(1, activation=\"sigmoid\")(headModel)\n",
        "\n",
        "# place the head FC model on top of the base model (this will become the actual model we will train)\n",
        "model = Model(inputs=baseModel.input, outputs=headModel)\n",
        "\n",
        "# compile our model\n",
        "model.compile(loss='binary_crossentropy', optimizer='adam', metrics=['accuracy'])\n"
      ],
      "metadata": {
        "colab": {
          "base_uri": "https://localhost:8080/"
        },
        "id": "B2QvRlCFWyQi",
        "outputId": "d7d7725a-7c5e-4b83-ac07-4c791a189148"
      },
      "execution_count": null,
      "outputs": [
        {
          "output_type": "stream",
          "name": "stderr",
          "text": [
            "WARNING:tensorflow:`input_shape` is undefined or non-square, or `rows` is not in [96, 128, 160, 192, 224]. Weights for input shape (224, 224) will be loaded as the default.\n"
          ]
        }
      ]
    },
    {
      "cell_type": "code",
      "source": [
        "BATCH_SIZE = 32\n",
        "EPOCHS = 10\n",
        "\n",
        "history = model.fit(\n",
        "    trainAug.flow(X_train, y_train, batch_size=BATCH_SIZE),\n",
        "    steps_per_epoch=len(X_train) // BATCH_SIZE,\n",
        "    validation_data=(X_test, y_test),\n",
        "    validation_steps=len(X_test) // BATCH_SIZE,\n",
        "    epochs=EPOCHS)\n",
        "\n"
      ],
      "metadata": {
        "colab": {
          "base_uri": "https://localhost:8080/"
        },
        "id": "M15bU7PbU7XF",
        "outputId": "4e9fa149-1138-4cbc-cf3c-9ce70643df7b"
      },
      "execution_count": null,
      "outputs": [
        {
          "metadata": {
            "tags": null
          },
          "name": "stdout",
          "output_type": "stream",
          "text": [
            "Epoch 1/10\n",
            "276/276 [==============================] - ETA: 0s - loss: 0.2074 - accuracy: 0.9299"
          ]
        },
        {
          "metadata": {
            "tags": null
          },
          "name": "stderr",
          "output_type": "stream",
          "text": [
            "WARNING:tensorflow:Your input ran out of data; interrupting training. Make sure that your dataset or generator can generate at least `steps_per_epoch * epochs` batches (in this case, 69 batches). You may need to use the repeat() function when building your dataset.\n"
          ]
        },
        {
          "output_type": "stream",
          "name": "stdout",
          "text": [
            "276/276 [==============================] - 183s 597ms/step - loss: 0.2074 - accuracy: 0.9299 - val_loss: 14.5515 - val_accuracy: 0.6252\n",
            "Epoch 2/10\n",
            "276/276 [==============================] - 165s 599ms/step - loss: 0.2028 - accuracy: 0.9418\n",
            "Epoch 3/10\n",
            "276/276 [==============================] - 155s 560ms/step - loss: 0.1151 - accuracy: 0.9648\n",
            "Epoch 4/10\n",
            "276/276 [==============================] - 151s 548ms/step - loss: 0.0691 - accuracy: 0.9799\n",
            "Epoch 5/10\n",
            "276/276 [==============================] - 119s 432ms/step - loss: 0.0545 - accuracy: 0.9855\n",
            "Epoch 6/10\n",
            "276/276 [==============================] - 111s 404ms/step - loss: 0.0443 - accuracy: 0.9858\n",
            "Epoch 7/10\n",
            "276/276 [==============================] - 110s 398ms/step - loss: 0.0488 - accuracy: 0.9849\n",
            "Epoch 8/10\n",
            "276/276 [==============================] - 109s 395ms/step - loss: 0.0884 - accuracy: 0.9731\n",
            "Epoch 9/10\n",
            "276/276 [==============================] - 109s 394ms/step - loss: 0.0600 - accuracy: 0.9819\n",
            "Epoch 10/10\n",
            "276/276 [==============================] - 108s 393ms/step - loss: 0.0389 - accuracy: 0.9884\n"
          ]
        }
      ]
    },
    {
      "cell_type": "code",
      "source": [
        "loss, accuracy = model.evaluate(X_test, y_test, verbose=0)\n",
        "\n",
        "print('Test Loss: {}'.format(loss))\n",
        "print('Test Accuracy: {}'.format(accuracy))\n",
        "\n"
      ],
      "metadata": {
        "colab": {
          "base_uri": "https://localhost:8080/"
        },
        "id": "8dEZFW_8W6tN",
        "outputId": "e1cd1492-3c71-407d-a6d0-5a9fe62cb8b8"
      },
      "execution_count": null,
      "outputs": [
        {
          "output_type": "stream",
          "name": "stdout",
          "text": [
            "Test Loss: 0.5136411190032959\n",
            "Test Accuracy: 0.9769126176834106\n"
          ]
        }
      ]
    },
    {
      "cell_type": "code",
      "source": [
        "model.save('mask_detector.model', save_format=\"h5\")\n"
      ],
      "metadata": {
        "id": "ndZMC0N4XSrI"
      },
      "execution_count": null,
      "outputs": []
    },
    {
      "cell_type": "code",
      "source": [
        "def prepare(filepath):\n",
        "    img_array = cv2.imread(filepath)\n",
        "    img_array = cv2.resize(img_array, (IMG_SIZE, IMG_SIZE))\n",
        "    img_array = img_array / 255.0  # normalize pixel values to [0, 1]\n",
        "    return img_array.reshape(-1, IMG_SIZE, IMG_SIZE, 3)\n",
        "\n",
        "img_path = '/content/Dataset/without_mask/102.jpg'\n",
        "\n",
        "prediction = model.predict([prepare(img_path)])\n",
        "\n",
        "# Since we are using sigmoid activation function in the output layer\n",
        "# for binary classification, we can directly compare the prediction with 0.5\n",
        "if prediction > 0.5:\n",
        "    print(\"Mask\")\n",
        "else:\n",
        "    print(\"No Mask\")\n"
      ],
      "metadata": {
        "colab": {
          "base_uri": "https://localhost:8080/"
        },
        "id": "NHckrIOmalGb",
        "outputId": "1b96681a-ee00-4576-c6de-e0d0745b4c24"
      },
      "execution_count": null,
      "outputs": [
        {
          "output_type": "stream",
          "name": "stdout",
          "text": [
            "1/1 [==============================] - 0s 25ms/step\n",
            "No Mask\n"
          ]
        }
      ]
    },
    {
      "cell_type": "code",
      "source": [
        "import matplotlib.pyplot as plt\n",
        "\n",
        "img = cv2.imread(img_path)\n",
        "img = cv2.cvtColor(img, cv2.COLOR_BGR2RGB)\n",
        "\n",
        "plt.imshow(img)\n",
        "plt.show()"
      ],
      "metadata": {
        "colab": {
          "base_uri": "https://localhost:8080/",
          "height": 434
        },
        "id": "ZFFhoIdebN_3",
        "outputId": "703ac49b-6559-46de-9b21-dc6cdaf4f909"
      },
      "execution_count": null,
      "outputs": [
        {
          "output_type": "display_data",
          "data": {
            "text/plain": [
              "<Figure size 640x480 with 1 Axes>"
            ],
            "image/png": "[encoded data removed]"
          },
          "metadata": {}
        }
      ]
    },
    {
      "cell_type": "code",
      "source": [],
      "metadata": {
        "id": "WTGXc0rYcs1Y"
      },
      "execution_count": null,
      "outputs": []
    },
    {
      "cell_type": "markdown",
      "source": [],
      "metadata": {
        "id": "aJ7iWpRshwtU"
      }
    }
  ]
}